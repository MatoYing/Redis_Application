{
 "cells": [
  {
   "cell_type": "markdown",
   "id": "ec005a02-33b3-40f3-938c-5ffed8785f24",
   "metadata": {},
   "source": [
    "# 缓存文本数据"
   ]
  },
  {
   "cell_type": "markdown",
   "id": "79807696-a048-4ae8-b53d-1b543ae071c3",
   "metadata": {},
   "source": [
    "使用 Redis 缓存系统中的文本数据，这些数据可能只有单独的一项，也可能会由多个项组成。"
   ]
  },
  {
   "cell_type": "code",
   "execution_count": 46,
   "id": "92fabacc-2306-41ca-a1cf-85868d9d2df4",
   "metadata": {},
   "outputs": [
    {
     "name": "stdout",
     "output_type": "stream",
     "text": [
      "Redis连接成功\n"
     ]
    }
   ],
   "source": [
    "\"\"\"\n",
    "配置连接\n",
    "\"\"\"\n",
    "from redis import Redis\n",
    "\n",
    "# Redis连接配置\n",
    "client = Redis(\n",
    "    host='39.104.208.122', \n",
    "    port=6379,\n",
    "    decode_responses=True,  # 自动解码\n",
    "    ssl=False\n",
    ")\n",
    "\n",
    "if client.ping():\n",
    "    print(\"Redis连接成功\")\n",
    "else:\n",
    "    print(\"Redis连接失败\")"
   ]
  },
  {
   "cell_type": "markdown",
   "id": "e86ecb1a-5e88-461c-910c-cf3fa7d0a684",
   "metadata": {},
   "source": [
    "### 1. 使用字符串键缓存单项数据"
   ]
  },
  {
   "cell_type": "markdown",
   "id": "47f98a07-2464-435f-a8a4-e451f4072d40",
   "metadata": {},
   "source": [
    "有些时候，业务非常简单，需要缓存的数据可能只有单独一项，比如一个页面 `<html>...<html>`。这种情况只需一个 String 即可满足。\n",
    "\n",
    "代码实现的逻辑就是先从 Redis 中直接拿 cache，如果有，则直接输出；如果没有，从数据库中提取，然后存入 Redis，然后输出。"
   ]
  },
  {
   "cell_type": "code",
   "execution_count": 52,
   "id": "66c16aba-ce1c-4961-8ab0-8caf6d9b6e8f",
   "metadata": {},
   "outputs": [],
   "source": [
    "\"\"\"\n",
    "所需要的Redis基础操作\n",
    "\"\"\"\n",
    "class Cache:\n",
    "    def __init__(self, client):\n",
    "        self.client = client\n",
    "\n",
    "    def set(self, name, content, ttl=None):\n",
    "        \"\"\"设置缓存内容，可选TTL过期时间\"\"\"\n",
    "        self.client.set(name, content, ttl)\n",
    "\n",
    "    def get(self, name):\n",
    "        \"\"\"获取缓存内容，不存在返回None\"\"\"\n",
    "        # GET name\n",
    "        return self.client.get(name)"
   ]
  },
  {
   "cell_type": "code",
   "execution_count": 53,
   "id": "7a59acc6-c731-4bc3-b9e4-9584eae21960",
   "metadata": {},
   "outputs": [
    {
     "name": "stdout",
     "output_type": "stream",
     "text": [
      "<html><p>Hello World!</p></html>\n"
     ]
    }
   ],
   "source": [
    "\"\"\"\n",
    "实现逻辑：\n",
    "先从Redis中直接拿cache，如果有，则直接输出；如果没有，从数据库中提取，然后存入Redis，然后输出\n",
    "\"\"\"\n",
    "# 初始化\n",
    "cache = Cache(client)\n",
    "\n",
    "def get_content_from_db():\n",
    "    \"\"\"模拟从数据库中取出数据\"\"\"\n",
    "    return \"<html><p>Hello World!</p></html>\"\n",
    "\n",
    "# 先直接尝试从Redis中拿\n",
    "content = cache.get(\"HTML_Catch\")\n",
    "if content is None:\n",
    "    # 缓存不存在，访问数据库拿到数据\n",
    "    content = get_content_from_db()\n",
    "    # 然后把它放入缓存以便之后访问\n",
    "    cache.set(\"HTML_Catch\", content, 60)\n",
    "    print(content)\n",
    "else:\n",
    "    # 缓存存在，无需访问数据库，直接从Redis中拿到数据\n",
    "    print(content)"
   ]
  },
  {
   "cell_type": "markdown",
   "id": "0f8a643f-a92e-4c40-bb24-dc70a613c406",
   "metadata": {},
   "source": [
    "### 2. 使用 JSON/哈希键缓存多项数据"
   ]
  },
  {
   "cell_type": "markdown",
   "id": "ba3f09f1-593f-48f8-b582-beb3a4ee477b",
   "metadata": {},
   "source": [
    "大部分时候，单项数据是少数的，更多的是由多个元素组成的数据，比如对从数据库读到的一行字段 `{\"id\": 10086, \"name\": Peter, \"gender\": \"male\", \"age\": 18}` 进行存储，有两种处理方式：\n",
    "+ 第一种方式是用 **JSON** 等序列化手段，将多个数据打包为单项进行存储；\n",
    "+ 第二种方式可以直接使用 Redis 的**哈希**或其他数据结构进行存储。"
   ]
  },
  {
   "cell_type": "code",
   "execution_count": 54,
   "id": "9a91d868-0efe-4fb7-8a0b-5291cdd4a0aa",
   "metadata": {},
   "outputs": [],
   "source": [
    "\"\"\"\n",
    "所需要的Redis基础操作（JSON）\n",
    "\"\"\"\n",
    "import json\n",
    "\n",
    "class JsonCache:\n",
    "\n",
    "    def __init__(self, client):\n",
    "        self.cache = Cache(client)\n",
    "\n",
    "    def set(self, name, content, ttl=None):\n",
    "        \"\"\"设置缓存内容，并对其进行JSON序列化，可选TTL过期时间\"\"\"\n",
    "        json_data = json.dumps(content)\n",
    "        self.cache.set(name, json_data, ttl)\n",
    "\n",
    "    def get(self, name):\n",
    "        \"\"\"获取缓存内容，不存在返回None\"\"\"\n",
    "        json_data = self.cache.get(name)\n",
    "        if json_data is not None:\n",
    "            return json.loads(json_data)\n",
    "        else:\n",
    "            return None"
   ]
  },
  {
   "cell_type": "code",
   "execution_count": 55,
   "id": "b023833c-1ab9-4d3c-90a3-b220f88b6013",
   "metadata": {},
   "outputs": [
    {
     "name": "stdout",
     "output_type": "stream",
     "text": [
      "{'id': 10086, 'name': 'Peter', 'gender': 'male', 'age': 18}\n"
     ]
    }
   ],
   "source": [
    "\"\"\"\n",
    "实现逻辑：\n",
    "和上面的一样\n",
    "\"\"\"\n",
    "jsonCache = JsonCache(client)\n",
    "\n",
    "# 字典\n",
    "data = {\"id\": 10086, \"name\": \"Peter\", \"gender\": \"male\", \"age\": 18}\n",
    "jsonCache.set(\"JSON_Cache\", data, 60)\n",
    "\n",
    "# get逻辑和上面的一样，省略\n",
    "print(jsonCache.get(\"JSON_Cache\"))"
   ]
  },
  {
   "cell_type": "markdown",
   "id": "a6757c31-2cc2-425e-99fd-e47f6e9b1dcc",
   "metadata": {},
   "source": [
    "对于第二种通过哈希的操作，Redis 的哈希命令无法一个命令实现存值和设置过期时间，会涉及到两个命令。为了保证两个命令的原子执行，也就是不受其它命令干扰，可以使用事务的方式。\n",
    "\n",
    "关于 Pipeline、事务、Lua 的使用，我写了一篇博客，可以帮助更好的理解，[《Redis 的指令执行方式：Pipeline、事务与 Lua 脚本的对比》](https://blog.csdn.net/Fishermen_sail/article/details/147321498)。"
   ]
  },
  {
   "cell_type": "code",
   "execution_count": 62,
   "id": "40e66485-fc2b-45cb-bd00-cd548f888cbb",
   "metadata": {},
   "outputs": [],
   "source": [
    "\"\"\"\n",
    "所需要的Redis基础操作（哈希）\n",
    "\"\"\"\n",
    "class HashCache:\n",
    "\n",
    "    def __init__(self, client):\n",
    "        self.client = client\n",
    "\n",
    "    def set(self, name, content, ttl=None):\n",
    "        \"\"\"设置缓存内容，可选TTL过期时间\"\"\"\n",
    "        if ttl is None:\n",
    "            self.client.hset(name, mapping=content)\n",
    "        else:\n",
    "            # 默认情况下，pipeline会以事务的方式运行\n",
    "            tx = self.client.pipeline()  # tx是transaction的缩写\n",
    "            # MULTI\n",
    "            # 省略了tx.multi()\n",
    "            # HSET name field value [field value] [...]\n",
    "            tx.hset(name, mapping=content)\n",
    "            # EXPIRE name ttl\n",
    "            tx.expire(name, ttl)\n",
    "            # EXEC\n",
    "            tx.execute()\n",
    "\n",
    "    def get(self, name):\n",
    "        \"\"\"获取缓存内容，不存在返回{}\"\"\"\n",
    "        # HGETALL name\n",
    "        result = self.client.hgetall(name)\n",
    "        return result"
   ]
  },
  {
   "cell_type": "code",
   "execution_count": 61,
   "id": "44c643c0-2dd1-48d1-97f6-f0eb1cc90feb",
   "metadata": {},
   "outputs": [
    {
     "name": "stdout",
     "output_type": "stream",
     "text": [
      "{'id': '10086', 'name': 'Peter', 'gender': 'male', 'age': '18'}\n"
     ]
    }
   ],
   "source": [
    "\"\"\"\n",
    "实现逻辑：\n",
    "和上面的一样\n",
    "\"\"\"\n",
    "hashCache = HashCache(client)\n",
    "\n",
    "# 字典\n",
    "data = {\"id\": 10086, \"name\": \"Peter\", \"gender\": \"male\", \"age\": 18}\n",
    "hashCache.set(\"Hash_Cache\", data, 60)\n",
    "\n",
    "# get逻辑和上面的一样，省略\n",
    "print(hashCache.get(\"Hash_Cache\"))"
   ]
  }
 ],
 "metadata": {
  "kernelspec": {
   "display_name": "Python 3 (ipykernel)",
   "language": "python",
   "name": "python3"
  },
  "language_info": {
   "codemirror_mode": {
    "name": "ipython",
    "version": 3
   },
   "file_extension": ".py",
   "mimetype": "text/x-python",
   "name": "python",
   "nbconvert_exporter": "python",
   "pygments_lexer": "ipython3",
   "version": "3.9.21"
  }
 },
 "nbformat": 4,
 "nbformat_minor": 5
}
