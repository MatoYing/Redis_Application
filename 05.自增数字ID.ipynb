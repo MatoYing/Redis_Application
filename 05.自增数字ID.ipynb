{
 "cells": [
  {
   "cell_type": "markdown",
   "id": "5e71e566-c580-4dc1-851f-319c020fc4f3",
   "metadata": {},
   "source": [
    "# 自增数字 ID"
   ]
  },
  {
   "cell_type": "markdown",
   "id": "8b7d3388-8a3b-4f06-ba37-b847864ba06d",
   "metadata": {},
   "source": [
    "作为通用的数据标识手段，数字 ID 对很多使用 Redis 的应用仍是不可获缺的。"
   ]
  },
  {
   "cell_type": "markdown",
   "id": "10dcc658-2329-42e2-986b-e29739ebacb2",
   "metadata": {},
   "source": [
    "有两种方案：\n",
    "+ 使用字符串键\n",
    "+ 使用哈希键"
   ]
  },
  {
   "cell_type": "code",
   "execution_count": 2,
   "id": "1142db9e-50f9-4bc5-97a7-56cfce716907",
   "metadata": {},
   "outputs": [
    {
     "name": "stdout",
     "output_type": "stream",
     "text": [
      "Redis连接成功\n"
     ]
    }
   ],
   "source": [
    "\"\"\"\n",
    "配置连接\n",
    "\"\"\"\n",
    "from redis import Redis\n",
    "\n",
    "# Redis连接配置\n",
    "client = Redis(\n",
    "    host='39.104.208.122', \n",
    "    port=6379,\n",
    "    decode_responses=True,\n",
    "    ssl=False\n",
    ")\n",
    "\n",
    "if client.ping():\n",
    "    print(\"Redis连接成功\")\n",
    "else:\n",
    "    print(\"Redis连接失败\")"
   ]
  },
  {
   "cell_type": "markdown",
   "id": "2eeebbbe-add8-4d35-b69c-fc64ae874c89",
   "metadata": {},
   "source": [
    "### 使用字符串键"
   ]
  },
  {
   "cell_type": "markdown",
   "id": "f4c27614-df80-404b-a125-74bdcca267be",
   "metadata": {},
   "source": [
    "逻辑就是，比如对于 `\"UserID\": \"1\"`，使用 `INCR key` 命令，就会变成`\"UserID\": \"2\"`。另外，如果这个 key 不存在，会自动初始化为 0，并加 1。"
   ]
  },
  {
   "cell_type": "markdown",
   "id": "68b82441-2a3f-450a-875c-18c936af545c",
   "metadata": {},
   "source": [
    "下面 `reverse()` 的目的就是定义一个初始值，`NX` 的目的是为了不重复创建这个初始值。"
   ]
  },
  {
   "cell_type": "code",
   "execution_count": 3,
   "id": "45698f52-edd8-451c-b228-87815834999f",
   "metadata": {},
   "outputs": [],
   "source": [
    "class IdGenerator:\n",
    "\n",
    "    def __init__(self, client, name):\n",
    "        self.client = client\n",
    "        self.name = name\n",
    "\n",
    "    def produce(self):\n",
    "        \"\"\"\n",
    "        生成并返回下一个ID。\n",
    "        \"\"\"\n",
    "        # INCR key\n",
    "        return self.client.incr(self.name)\n",
    "\n",
    "    def reserve(self, n):\n",
    "        \"\"\"\n",
    "        尝试保留前N个ID，使得之后生成的ID都大于N。\n",
    "        这个方法只能在执行produce()之前执行，否则函数将返回False表示执行失败。\n",
    "        返回True则表示保留成功。\n",
    "        \"\"\"\n",
    "        return self.client.set(self.name, n, nx=True) is True"
   ]
  },
  {
   "cell_type": "code",
   "execution_count": 5,
   "id": "55cc8cfa-604b-4245-b88f-6060cc1b91d2",
   "metadata": {},
   "outputs": [
    {
     "name": "stdout",
     "output_type": "stream",
     "text": [
      "101\n"
     ]
    }
   ],
   "source": [
    "gen = IdGenerator(client, \"UserID\")\n",
    "gen.reserve(100)\n",
    "print(gen.produce())"
   ]
  },
  {
   "cell_type": "markdown",
   "id": "9da6c741-b896-4928-9eaa-a19e521ab502",
   "metadata": {},
   "source": [
    "### 使用哈希键"
   ]
  },
  {
   "cell_type": "markdown",
   "id": "ebf2c5dd-2fdd-46cd-9b51-72ef1a65f19b",
   "metadata": {},
   "source": [
    "与前者相比，使用哈希键实现的自增数字 ID 生成器可以将多个相关的 ID 生成器放到同一个键中进行管理，如 `\"UserID_Coll\": {\"PostID\": \"1\", \"CommentID\": \"10\"}`（Collection简写）。"
   ]
  },
  {
   "cell_type": "code",
   "execution_count": 7,
   "id": "e87a94e0-e029-46d1-b43e-d5278ff8861c",
   "metadata": {},
   "outputs": [],
   "source": [
    "class HashIdGenerator:\n",
    "\n",
    "    def __init__(self, client, key):\n",
    "        self.client = client\n",
    "        self.key = key\n",
    "\n",
    "    def produce(self, name):\n",
    "        \"\"\"\n",
    "        生成并返回下一个ID。\n",
    "        \"\"\"\n",
    "        # HINCRBY UserID_Coll CommentID 1\n",
    "        return self.client.hincrby(self.key, name, 1)\n",
    "\n",
    "    def reserve(self, name, number):\n",
    "        \"\"\"\n",
    "        保留前N个ID，使得之后生成的ID都大于N。\n",
    "        这个方法只能在执行produce()之前执行，否则函数将返回False表示执行失败。\n",
    "        返回True则表示保留成功。\n",
    "        \"\"\"\n",
    "        # HSETNX UserID_Coll CommentID 100\n",
    "        return self.client.hsetnx(self.key, name, number) == 1"
   ]
  }
 ],
 "metadata": {
  "kernelspec": {
   "display_name": "Python 3 (ipykernel)",
   "language": "python",
   "name": "python3"
  },
  "language_info": {
   "codemirror_mode": {
    "name": "ipython",
    "version": 3
   },
   "file_extension": ".py",
   "mimetype": "text/x-python",
   "name": "python",
   "nbconvert_exporter": "python",
   "pygments_lexer": "ipython3",
   "version": "3.9.21"
  }
 },
 "nbformat": 4,
 "nbformat_minor": 5
}
