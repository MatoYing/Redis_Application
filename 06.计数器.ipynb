{
 "cells": [
  {
   "cell_type": "markdown",
   "id": "873f7928-6dc8-434c-8795-1abedef4127a",
   "metadata": {},
   "source": [
    "# 计数器"
   ]
  },
  {
   "cell_type": "markdown",
   "id": "af29affb-ec38-48d7-b6c4-621cb1ba7b28",
   "metadata": {},
   "source": [
    "计数器是应用中最常见的功能之一，如：\n",
    "+ 阅读应用会用计数器记录每本书、每篇文章被阅读的次数。\n",
    "+ 应用商店会用计数器记录每个应用被下载的次数和付费购买应用的人数。\n",
    "+ 视频应用、音乐应用会用计数器记录视频和音乐被播放的次数。\n",
    "+ 为了保护用户的财产安全，银行应用可能会在在后台用计数器记录每个账户的登陆失败次数，并在需要的时候锁定账户以防止密码被暴力破解。  \n",
    "\n",
    "下面将会使用 Redis 实现计数器，从而对系统或用户的某些操作进行技术，有两种方案：\n",
    "+ 使用字符串键\n",
    "+ 使用哈希键"
   ]
  },
  {
   "cell_type": "markdown",
   "id": "d88d6633-1948-4491-8ee4-52e4715bd2d0",
   "metadata": {},
   "source": [
    "### 使用字符串键"
   ]
  },
  {
   "cell_type": "markdown",
   "id": "cd0abfc4-ac1f-4485-8d97-6e7ee162f822",
   "metadata": {},
   "source": [
    "整体逻辑比较简单，和上一节“自增数字 ID”比较像，不做过多解释。"
   ]
  },
  {
   "cell_type": "code",
   "execution_count": 3,
   "id": "13e1771e-ebd2-4b8d-9df7-57bd6a9ae324",
   "metadata": {},
   "outputs": [],
   "source": [
    "class Counter:\n",
    "\n",
    "    def __init__(self, client, key):\n",
    "        self.client = client\n",
    "        self.key = key\n",
    "\n",
    "    def increase(self, n=1):\n",
    "        \"\"\"\n",
    "        将计数器的值加上指定的数字。\n",
    "        \"\"\"\n",
    "        return self.client.incr(self.key, n)\n",
    "\n",
    "    def decrease(self, n=1):\n",
    "        \"\"\"\n",
    "        将计数器的值减去指定的数字。\n",
    "        \"\"\"\n",
    "        # DECRBY key 1\n",
    "        return self.client.decr(self.key, n)\n",
    "\n",
    "    def get(self):\n",
    "        \"\"\"\n",
    "        返回计数器的当前值。\n",
    "        \"\"\"\n",
    "        value = self.client.get(self.key)\n",
    "        return 0 if value is None else int(value)\n",
    "\n",
    "    def reset(self, n=0):\n",
    "        \"\"\"\n",
    "        将计数器的值重置为参数n指定的数字，并返回计数器在重置之前的旧值。\n",
    "        参数n是可选的，若省略则默认将计数器重置为0。\n",
    "        \"\"\"\n",
    "        value = self.client.set(self.key, n, get=True)\n",
    "        return 0 if value is None else int(value)"
   ]
  },
  {
   "cell_type": "markdown",
   "id": "950a4da5-99fb-4dee-9af6-b26b10698aef",
   "metadata": {},
   "source": [
    "### 使用哈希键"
   ]
  },
  {
   "cell_type": "markdown",
   "id": "68d0516f-d3eb-412c-8cb0-1f20b29a8eeb",
   "metadata": {},
   "source": [
    "也和上一节“自增数字 ID”比较像，不做过多解释，就是把多个相关的计数器放到同一个哈希键中进行管理，如访问计数器、下载计数器、付费计数器。\n",
    "\n",
    "另外作者还提到了，对于一些使用哈希键存储的文章信息的键，比如，一个键中包含了文章的标题、正文、作者、发布日期等，这时比起使用别的字符串存储文章的浏览量，更好的做法是把浏览量也包含在相同的哈希键中，在文章被阅读时，更新它的浏览量。"
   ]
  },
  {
   "cell_type": "code",
   "execution_count": 5,
   "id": "194511cc-0a7b-42e9-862b-063240cd02e4",
   "metadata": {},
   "outputs": [],
   "source": [
    "class HashCounter:\n",
    "\n",
    "    def __init__(self, client, key, name):\n",
    "        \"\"\"\n",
    "        创建一个哈希键计数器对象。\n",
    "        其中key参数用于指定包含多个计数器的哈希键的键名，\n",
    "        而name参数则用于指定具体的计数器在该键中的名字。\n",
    "        \"\"\"\n",
    "        self.client = client\n",
    "        self.key = key\n",
    "        self.name = name\n",
    "\n",
    "    def increase(self, n=1):\n",
    "        \"\"\"\n",
    "        将计数器的值加上指定的数字。\n",
    "        \"\"\"\n",
    "        return self.client.hincrby(self.key, self.name, n)\n",
    "\n",
    "    def decrease(self, n=1):\n",
    "        \"\"\"\n",
    "        将计数器的值减去指定的数字。\n",
    "        \"\"\"\n",
    "        # Redis并没有HDECRBY，所以只能通过传给HINCRBY负数进行减少\n",
    "        return self.client.hincrby(self.key, self.name, 0-n)\n",
    "\n",
    "    def get(self):\n",
    "        \"\"\"\n",
    "        返回计数器的当前值。\n",
    "        \"\"\"\n",
    "        value = self.client.hget(self.key, self.name)\n",
    "        if value is None:\n",
    "            return 0\n",
    "        else:\n",
    "            return int(value)\n",
    "\n",
    "    def reset(self, n=0):\n",
    "        \"\"\"\n",
    "        将计数器的值重置为参数n指定的数字，并返回计数器在重置之前的旧值。\n",
    "        参数n是可选的，若省略则默认将计数器重置为0。\n",
    "        \"\"\"\n",
    "        tx = self.client.pipeline()\n",
    "        tx.hget(self.key, self.name)  # 获取旧值\n",
    "        tx.hset(self.key, self.name, n)  # 设置新值\n",
    "        old_value, _ = tx.execute()\n",
    "        if old_value is None:\n",
    "            return 0\n",
    "        else:\n",
    "            return int(old_value)"
   ]
  }
 ],
 "metadata": {
  "kernelspec": {
   "display_name": "Python 3 (ipykernel)",
   "language": "python",
   "name": "python3"
  },
  "language_info": {
   "codemirror_mode": {
    "name": "ipython",
    "version": 3
   },
   "file_extension": ".py",
   "mimetype": "text/x-python",
   "name": "python",
   "nbconvert_exporter": "python",
   "pygments_lexer": "ipython3",
   "version": "3.9.21"
  }
 },
 "nbformat": 4,
 "nbformat_minor": 5
}
