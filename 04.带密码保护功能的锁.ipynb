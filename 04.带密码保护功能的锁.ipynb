{
 "cells": [
  {
   "cell_type": "markdown",
   "id": "eb11afdb-46fa-471e-b60a-560a5830435f",
   "metadata": {},
   "source": [
    "# 带密码保护功能的锁"
   ]
  },
  {
   "cell_type": "markdown",
   "id": "0ce30c99-3c4e-4320-9a3e-4e59afa170dd",
   "metadata": {},
   "source": [
    "书中是这样说的：“第 3 章介绍的两个锁实现都假设只有持有锁的客户端会调用 release() 方法来解锁，但实际上其他客户端即使没有成功加锁，也可以通过指定相同的锁键并执行 release() 方法来解锁。为了避免出现没有持有锁的客户端解锁这种情况，可以给锁加上密码保护功能，使锁只在给定正确密码的情况下才会被解锁。”但我觉得本地代码的逻辑应该只有拿到锁，才能释放锁，你没拿到锁，逻辑上就不会执行 release()。"
   ]
  },
  {
   "cell_type": "markdown",
   "id": "b550caa1-5f8f-42cd-b734-c44d03e5ce92",
   "metadata": {},
   "source": [
    "之前我在找工作背八股时，涉及到 Redis 分布式锁的问题，下面是我当时的笔记，我感觉下面的逻辑可能更匹配需要带“密码保护”功能的锁。\n",
    "> 分布式锁，一般会依托第三方组件进行实现，Redis 是用的最多的，主要分为加锁和解锁：  \n",
    "> 1）加锁使用 `set key value nx ex seconds` 命令（`setnx`），其中加时间是为了防止如果获取锁的服务挂掉了，那么锁永远得不到释放；value 要用持有者的 id，比如 UUID，也就是要加个 owner，释放时要看一下是不是自己的名字，因为要满足谁申请，谁释放的原则，防止比如 A 拿到了锁，锁过期了，然后 B 抢到了锁；此时 A 执行完了，释放了锁，但 B 还没有执行完。  \n",
    "> 2）解锁，我们首先要看看一下是不是该线程的 id，如果是则删除，因为涉及到两步，所以要用 Lua 脚本实现原子化。为了防止，比如判断完是自己的，你准备删时，锁过期了，另一个线程拿到了锁，这时你就会又误删别人的锁。"
   ]
  },
  {
   "cell_type": "markdown",
   "id": "e8404b0a-b04b-47f9-912a-ff0cd24b0a4f",
   "metadata": {},
   "source": [
    "总之上面两种描述，最终的目的是一样的，就是避免一个客户端去释放别的客户端的锁。下面解释一下作者的代码。\n",
    "\n",
    "1. 获取锁键的值（也就是加锁时设置的密码）。\n",
    "2. 检查锁键的值是否与给定的密码相同，如果相同就执行第 3 步，否则执行第 4 步。\n",
    "3. 删除锁键并返回 True 表示解锁成功。（保证只有拿锁的客户端可以解锁）\n",
    "4. 不对锁键做任何动作，只返回 False 表示解锁失败。\n",
    "\n",
    "这里的 `WATCH` 和事务是为了，防止在检查密码通过后，准备删除时，锁的密码被改了。另外这里的事务只有一条命令需要开事务吗？需要的，因为 `WATCH` 只有在事务中才会发挥作用。\n",
    "\n",
    "下面 Python 的写法还挺特别的，像是 Lua 脚本一样。这种情况最好还是直接用 Lua，能够减少客户端与服务器的交互，提升性能。像下面用 `WATCH` 就需要多次客户端与服务器的交互。\n",
    "\n",
    "另外 Redis 的乐观锁不会面临ABA问题。"
   ]
  },
  {
   "cell_type": "code",
   "execution_count": null,
   "id": "06619ae7-ac51-44e2-8841-7bb9a5028802",
   "metadata": {},
   "outputs": [],
   "source": [
    "class IdentityLock:\n",
    "\n",
    "    def __init__(self, client, key):\n",
    "        self.client = client\n",
    "        self.key = key\n",
    "\n",
    "    def acquire(self, password):\n",
    "        \"\"\"\n",
    "        尝试获取一个带有密码保护功能的锁，\n",
    "        成功时返回True，失败时则返回False。\n",
    "        password参数用于设置上锁/解锁密码。\n",
    "        \"\"\"\n",
    "        return self.client.set(self.key, password, nx=True) is True\n",
    "\n",
    "    def release(self, password):\n",
    "        \"\"\"\n",
    "        根据给定的密码，尝试释放锁。\n",
    "        锁存在并且密码正确时返回True，\n",
    "        返回False则表示密码不正确或者锁已不存在。\n",
    "        \"\"\"\n",
    "        tx = self.client.pipeline()\n",
    "        try:\n",
    "            # 监视锁键以防它发生变化\n",
    "            tx.watch(self.key)\n",
    "            # 获取锁键存储的密码\n",
    "            lock_password = tx.get(self.key)\n",
    "            # 比对密码\n",
    "            if lock_password == password:\n",
    "                # 情况1：密码正确，尝试解锁\n",
    "                tx.multi()\n",
    "                tx.delete(self.key)\n",
    "                return tx.execute()[0]==1  # 返回删除结果\n",
    "            else:\n",
    "                # 情况2：密码不正确\n",
    "                tx.unwatch()\n",
    "        except WatchError:\n",
    "            # 尝试解锁时发现键已变化\n",
    "            pass\n",
    "        finally:\n",
    "            # 确保连接正确回归连接池，redis-py的要求\n",
    "            tx.reset()\n",
    "        # 密码不正确或者尝试解锁时失败\n",
    "        return False"
   ]
  },
  {
   "cell_type": "markdown",
   "id": "272fc7af-307b-4d3c-8257-03db1e2454b5",
   "metadata": {},
   "source": [
    "作者这里并没有实现带自动解锁功能的锁，他说会让代码变得很复杂，有兴趣的读者可自行尝试。"
   ]
  },
  {
   "cell_type": "code",
   "execution_count": null,
   "id": "2ab92bd1-e903-439c-a8a1-22fbfa910766",
   "metadata": {},
   "outputs": [],
   "source": []
  }
 ],
 "metadata": {
  "kernelspec": {
   "display_name": "Python 3 (ipykernel)",
   "language": "python",
   "name": "python3"
  },
  "language_info": {
   "codemirror_mode": {
    "name": "ipython",
    "version": 3
   },
   "file_extension": ".py",
   "mimetype": "text/x-python",
   "name": "python",
   "nbconvert_exporter": "python",
   "pygments_lexer": "ipython3",
   "version": "3.9.21"
  }
 },
 "nbformat": 4,
 "nbformat_minor": 5
}
