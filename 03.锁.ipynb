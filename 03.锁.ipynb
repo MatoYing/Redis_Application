{
 "cells": [
  {
   "cell_type": "markdown",
   "id": "9e6ca5e5-079a-4e69-b442-a23f100b1ba9",
   "metadata": {},
   "source": [
    "# 锁"
   ]
  },
  {
   "cell_type": "markdown",
   "id": "3c2c7218-5762-4f21-8f3e-a9053d65eb01",
   "metadata": {},
   "source": [
    "Redis 常在分布式环境中充当锁的作用，来保证特定资源在任何时候只能有一个使用者。"
   ]
  },
  {
   "cell_type": "markdown",
   "id": "fae31082-4907-493b-bfc9-210440b98bb2",
   "metadata": {},
   "source": [
    "### 1. 普通锁"
   ]
  },
  {
   "cell_type": "markdown",
   "id": "0c5c3ea0-e2a9-45d6-ace5-956bd2e70c8c",
   "metadata": {},
   "source": [
    "每个锁程序至少需要实现以下两个方法：\n",
    "+ 加锁：尝试获得锁的独占权，在任何时候只能有最多一个客户端成功加锁，而除此以外的其他客户端则会失败。\n",
    "+ 解锁：成功加锁的客户端可以通过解锁释放对锁的独占权，使包括它自身在内的所有客户端都能够有重新获得锁的机会。"
   ]
  },
  {
   "cell_type": "markdown",
   "id": "d5c78271-b371-4ad5-95a6-73413e21dcf2",
   "metadata": {},
   "source": [
    "在 Redis 中实现锁最基本的方法就是使用字符串数据结构，通过 `SET key value NX` 即可加锁成功。它的原理就是 `NX` 可以保证只有当前 key 不存在的时候才能创建成功，所以可以通过有没有成功创建该键，来判断有没有成功拿到锁。如果成功拿到锁，可以继续接下来的操作。\n",
    "\n",
    "另外，带 NX 选项的 SET 命令是原子命令，所以如果有多个客户端同时进行上锁，也只会有一个客户端能够成功执行设置操作，是线程安全的。\n",
    "\n",
    "当客户端需要解锁的时候，只需要使用 DEL 命令将该键删除即可。"
   ]
  },
  {
   "cell_type": "code",
   "execution_count": 13,
   "id": "e4ff791f-a780-40db-b65b-02b66675dc03",
   "metadata": {},
   "outputs": [
    {
     "name": "stdout",
     "output_type": "stream",
     "text": [
      "Redis连接成功\n"
     ]
    }
   ],
   "source": [
    "\"\"\"\n",
    "配置连接\n",
    "\"\"\"\n",
    "from redis import Redis\n",
    "\n",
    "# Redis连接配置\n",
    "client = Redis(\n",
    "    host='39.104.208.122', \n",
    "    port=6379,\n",
    "    decode_responses=True,\n",
    "    ssl=False\n",
    ")\n",
    "\n",
    "if client.ping():\n",
    "    print(\"Redis连接成功\")\n",
    "else:\n",
    "    print(\"Redis连接失败\")"
   ]
  },
  {
   "cell_type": "code",
   "execution_count": 5,
   "id": "5d0f657d-81d1-4301-9401-2e221c39324c",
   "metadata": {},
   "outputs": [],
   "source": [
    "class Lock:\n",
    "\n",
    "    def __init__(self, client, key):\n",
    "        self.client = client\n",
    "        self.key = key\n",
    "\n",
    "    def acquire(self):\n",
    "        \"\"\"\n",
    "        尝试获取锁，成功时返回True，失败时则返回False。\n",
    "        \"\"\"\n",
    "        # SET key value NX\n",
    "        return self.client.set(self.key, \"VALUE_OF_LOCK\", nx=True) is True\n",
    "\n",
    "    def release(self):\n",
    "        \"\"\"\n",
    "        尝试释放锁，成功时返回True，失败时则返回False。\n",
    "        \"\"\"\n",
    "        # DEL key\n",
    "        return self.client.delete(self.key) == 1"
   ]
  },
  {
   "cell_type": "code",
   "execution_count": 6,
   "id": "7aeee3b7-0127-4e7a-b7b2-450f82fa5b5e",
   "metadata": {},
   "outputs": [
    {
     "name": "stdout",
     "output_type": "stream",
     "text": [
      "True\n",
      "False\n",
      "True\n",
      "True\n"
     ]
    }
   ],
   "source": [
    "locker1 = Lock(client, \"Lock:10086\")\n",
    "# 模拟另一个客户端\n",
    "locker2 = Lock(client, \"Lock:10086\")\n",
    "\n",
    "print(locker1.acquire())\n",
    "print(locker2.acquire())\n",
    "print(locker1.release())\n",
    "print(locker2.acquire())"
   ]
  },
  {
   "cell_type": "markdown",
   "id": "a4e4376c-091a-4c69-bb3a-da2cb31280a5",
   "metadata": {},
   "source": [
    "### 2. 带自动解锁功能的锁"
   ]
  },
  {
   "cell_type": "markdown",
   "id": "a0b006ed-ae49-48df-a45c-197acc0f9f3d",
   "metadata": {},
   "source": [
    "有一个问题，如果一个客户端拿到锁后，之后的执行过程非正常退出，那么这个锁永远都得不到释放，别的客户端永远拿不到锁。为了解决这个问题，可以给锁加上自动解锁的功能。这样如果一个客户端因为一些原因非正常退出，别的线程也可以拿到锁。\n",
    "\n",
    "我们可以通过 `SET key value NX EX sec` 来设置该锁的最大存活时间，在指定的时限到达后，自动删除该键，从而解锁。\n",
    "\n",
    "另外，在使用自动解锁时，锁的最大加锁时长必须超过程序在正常情况下完成任务操作的**最大时长**，比如 1s 可以完成任务，那么锁的过期时长应该设置为 30s 甚至更长，以免程序出现适当延误，而直接剥夺锁的使用权，导致任务失败。\n",
    "\n",
    "换句话说，锁的自动解锁功能就跟程序异常一样，是一种保护措施。成功加锁的客户端在程序正常运行的情况下还是应该手动解锁，而不是依靠自动解锁。"
   ]
  },
  {
   "cell_type": "code",
   "execution_count": 16,
   "id": "a9552a7b-8169-4662-9753-b06b6b243989",
   "metadata": {},
   "outputs": [],
   "source": [
    "class AutoReleaseLock:\n",
    "\n",
    "    def __init__(self, client, key):\n",
    "        self.client = client\n",
    "        self.key = key\n",
    "\n",
    "    def acquire(self, timeout, unit=\"sec\"):\n",
    "        \"\"\"\n",
    "        尝试获取一个能够在指定时长之后自动释放的锁。\n",
    "        timeout参数用于设置锁的最大加锁时长。\n",
    "        可选的unit参数则用于设置时长的单位，它的值可以是代表秒的'sec'或是代表毫秒的'ms'，默认为'sec'。\n",
    "        \"\"\"\n",
    "        if unit == \"sec\":\n",
    "            # SET key value NX EX sec\n",
    "            return self.client.set(self.key, \"VALUE_OF_LOCK\", nx=True, ex=timeout) is True\n",
    "        elif unit == \"ms\":\n",
    "            # SET key value NX PX ms\n",
    "            return self.client.set(self.key, \"VALUE_OF_LOCK\", nx=True, px=timeout) is True\n",
    "        else:\n",
    "            raise ValueError(\"Unit must be 'sec' or 'ms'!\")\n",
    "\n",
    "    def release(self):\n",
    "        \"\"\"\n",
    "        尝试释放锁，成功时返回True，失败时则返回False。\n",
    "        \"\"\"\n",
    "        return self.client.delete(self.key) == 1"
   ]
  },
  {
   "cell_type": "code",
   "execution_count": 15,
   "id": "def7a3ef-dca2-4852-9775-f3465f75dd73",
   "metadata": {},
   "outputs": [
    {
     "name": "stdout",
     "output_type": "stream",
     "text": [
      "True\n",
      "True\n"
     ]
    }
   ],
   "source": [
    "import time\n",
    "\n",
    "locker1 = AutoReleaseLock(client, \"Lock:10087\")\n",
    "# 模拟另一个客户端\n",
    "locker2 = AutoReleaseLock(client, \"Lock:10087\")\n",
    "\n",
    "print(locker1.acquire(5))\n",
    "time.sleep(5)\n",
    "print(locker2.acquire(5))"
   ]
  }
 ],
 "metadata": {
  "kernelspec": {
   "display_name": "Python 3 (ipykernel)",
   "language": "python",
   "name": "python3"
  },
  "language_info": {
   "codemirror_mode": {
    "name": "ipython",
    "version": 3
   },
   "file_extension": ".py",
   "mimetype": "text/x-python",
   "name": "python",
   "nbconvert_exporter": "python",
   "pygments_lexer": "ipython3",
   "version": "3.9.21"
  }
 },
 "nbformat": 4,
 "nbformat_minor": 5
}
