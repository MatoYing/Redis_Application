{
 "cells": [
  {
   "cell_type": "markdown",
   "id": "840b8dea-4838-4a4b-a5c6-bb5ddd4203d6",
   "metadata": {},
   "source": [
    "# 速率限制器"
   ]
  },
  {
   "cell_type": "markdown",
   "id": "36142faa-5ec3-45a8-9cbf-5205035b5da3",
   "metadata": {},
   "source": [
    "速率限制器可以控制系统的处理请求或者执行操作的频率，从而达到保护系统自身、数据及用户安全等多个方面的目的。如：\n",
    "+ 通过速率限制手段限制用户在一定时间内访问页面的次数，从而避免网络爬虫行为。\n",
    "+ 限制用户在一定时间内尝试登陆的次数，以此来避免黑客对用户密码进行暴力破解。\n",
    "+ 云计算会用速率限制器抵御恶意的 API 调用和 DDoS 攻击。"
   ]
  },
  {
   "cell_type": "markdown",
   "id": "52c08ecd-0b51-4a2c-b0ae-1cd610c8cd56",
   "metadata": {},
   "source": [
    "它的逻辑就是，比如想要限制用户 Peter 在 24h 内尝试登陆的次数，那么可以在 Peter 每次尝试登陆时使用 INCR 将其对应的 `RateLimiter:Peter:login` 计数器的值加 1，并用 `NX` 的方式为键限制 24h，过了24h，自动删除该键重新计数。\n",
    "\n",
    "使用时，通过检查计数器的当前值与系统允许的最大可执行次数来判断用户是否可执相关的操作。另外当用户由于执行过多次数被禁止时，可以针对计数器执行 `TTL` 命令来获知用户解禁所需时间，或者使用 `DEL` 命令删除计数器来解除对该用户的操作限制。"
   ]
  },
  {
   "cell_type": "code",
   "execution_count": 19,
   "id": "51dbf8cc-b005-4973-a216-36cf02800702",
   "metadata": {},
   "outputs": [
    {
     "name": "stdout",
     "output_type": "stream",
     "text": [
      "Redis连接成功\n"
     ]
    }
   ],
   "source": [
    "\"\"\"\n",
    "配置连接\n",
    "\"\"\"\n",
    "from redis import Redis\n",
    "\n",
    "# Redis连接配置\n",
    "client = Redis(\n",
    "    host='39.104.208.122', \n",
    "    port=6379,\n",
    "    decode_responses=False,  # 关闭自动解码\n",
    "    ssl=False\n",
    ")\n",
    "\n",
    "if client.ping():\n",
    "    print(\"Redis连接成功\")\n",
    "else:\n",
    "    print(\"Redis连接失败\")"
   ]
  },
  {
   "cell_type": "code",
   "execution_count": 22,
   "id": "6b33d2a4-6e59-4043-9e72-4aa7cba9e365",
   "metadata": {},
   "outputs": [],
   "source": [
    "def make_limiter_key(uid, action):\n",
    "    \"\"\"\n",
    "    构建用于记录用户执行指定行为次数的计数器键。\n",
    "    例子： RateLimiter:Peter:login\n",
    "    \"\"\"\n",
    "    return \"RateLimiter:{0}:{1}\".format(uid, action)\n",
    "\n",
    "class RateLimiter:\n",
    "\n",
    "    def __init__(self, client, action, interval, maximum):\n",
    "        \"\"\"\n",
    "        根据给定的行为、间隔和最大次数参数，创建相应行为的速率限制器实例。\n",
    "        \"\"\"\n",
    "        self.client = client\n",
    "        self.action = action\n",
    "        self.interval = interval\n",
    "        self.maximum = maximum\n",
    "\n",
    "    def is_permitted(self, uid):\n",
    "        \"\"\"\n",
    "        判断给定用户当前是否可以执行指定行为。\n",
    "        \"\"\"\n",
    "        key = make_limiter_key(uid, self.action)\n",
    "        # 更新计数器并在有需要时为其设置过期时间\n",
    "        tx = self.client.pipeline()\n",
    "        tx.incr(key)\n",
    "        # EXPIRE key interval NX\n",
    "        # 本书用到的是Redis7，由于我用的是Redis6，下面的命令无法在Redis6中执行\n",
    "        tx.expire(key, self.interval, nx=True)\n",
    "        current_times, _ = tx.execute()\n",
    "        # 根据计数器的当前值判断本次行为是否可以执行\n",
    "        return current_times <= self.maximum\n",
    "\n",
    "    def remaining(self, uid):\n",
    "        \"\"\"\n",
    "        返回给定用户当前还可以执行指定行为的次数。\n",
    "        \"\"\"\n",
    "        # 根据键获取计数器中储存的值\n",
    "        key = make_limiter_key(uid, self.action)\n",
    "        current_times = self.client.get(key)\n",
    "        # 值为空则表示给定用户当前并未执行过指定行为\n",
    "        if current_times is None:\n",
    "            return self.maximum\n",
    "        # 将值转换为数字，然后通过计算获取剩余的可执行次数\n",
    "        current_times = int(current_times)\n",
    "        if current_times > self.maximum:\n",
    "            return 0\n",
    "        else:\n",
    "            return self.maximum - current_times\n",
    "\n",
    "    def duration(self, uid):\n",
    "        \"\"\"\n",
    "        计算距离给定用户允许再次执行指定行为需要多长时间，单位为秒。\n",
    "        返回None则表示给定用户当前无需等待，仍然可以执行指定行为。\n",
    "        \"\"\"\n",
    "        # 同时取出计数器的当前值和它的剩余生存时间\n",
    "        key = make_limiter_key(uid, self.action)\n",
    "        tx = self.client.pipeline()\n",
    "        tx.get(key)\n",
    "        # TTL key\n",
    "        tx.ttl(key)\n",
    "        current_times, remaining_ttl = tx.execute()\n",
    "        # 仅在计数器非空并且次数已超限的情况下计算需等待时长\n",
    "        if current_times is not None:\n",
    "            if int(current_times) >= self.maximum:\n",
    "                return remaining_ttl\n",
    "\n",
    "    def revoke(self, uid):\n",
    "        \"\"\"\n",
    "        撤销对用户执行指定行为的限制。\n",
    "        \"\"\"\n",
    "        key = make_limiter_key(uid, self.action)\n",
    "        self.client.delete(key)"
   ]
  },
  {
   "cell_type": "code",
   "execution_count": null,
   "id": "4a19f5bf-023d-4af6-a33d-262890c96e3c",
   "metadata": {},
   "outputs": [],
   "source": [
    "limiter = RateLimiter(client, \"login\", 86400, 3)\n",
    "\n",
    "for _ in range(5):\n",
    "    # 因版本差异无法执行\n",
    "    print(limiter.is_permitted(\"Peter\"))\n",
    "\n",
    "print(limiter.duration(\"Peter\"))"
   ]
  }
 ],
 "metadata": {
  "kernelspec": {
   "display_name": "Python 3 (ipykernel)",
   "language": "python",
   "name": "python3"
  },
  "language_info": {
   "codemirror_mode": {
    "name": "ipython",
    "version": 3
   },
   "file_extension": ".py",
   "mimetype": "text/x-python",
   "name": "python",
   "nbconvert_exporter": "python",
   "pygments_lexer": "ipython3",
   "version": "3.9.21"
  }
 },
 "nbformat": 4,
 "nbformat_minor": 5
}
