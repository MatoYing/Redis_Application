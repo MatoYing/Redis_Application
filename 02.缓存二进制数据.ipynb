{
 "cells": [
  {
   "cell_type": "markdown",
   "id": "d12e4554-34b6-4878-9632-b690b7532965",
   "metadata": {},
   "source": [
    "# 缓存二进制数据"
   ]
  },
  {
   "cell_type": "markdown",
   "id": "9448a2bd-bdac-4e3d-bed4-d70c4c922145",
   "metadata": {},
   "source": [
    "除了缓存文本数据外，Redis 还经常被用于缓存二进制数据，如图片、视频、音频等。"
   ]
  },
  {
   "cell_type": "markdown",
   "id": "50fb4a05-3183-4a75-9586-6d56cf29e838",
   "metadata": {},
   "source": [
    "Redis 存储二进制时比较特别，只需要在初始化 redis-py 客户端实例的时候让 decode-responses 为 False，也就是让返回的数据**不自动进行解码**，而是以二进制形式返回。如果存储图片后，不将 decode_responses 设置为 False，获取二进制数据的时候 redis-py 客户端会把它们解释为文本数据，会引发错误。\n",
    "\n",
    "需要注意，没有办法单独对某个 GET 操作设置 decode-responses 为 False，所以如果 client 还有别的操作需要进行自动解码，只能新声明一个 client 来进行对二进制的操作。"
   ]
  },
  {
   "cell_type": "code",
   "execution_count": 14,
   "id": "0e3699ea-64ec-4006-b95a-79502814b8a5",
   "metadata": {},
   "outputs": [
    {
     "name": "stdout",
     "output_type": "stream",
     "text": [
      "Redis连接成功\n"
     ]
    }
   ],
   "source": [
    "\"\"\"\n",
    "配置连接\n",
    "\"\"\"\n",
    "from redis import Redis\n",
    "\n",
    "# Redis连接配置\n",
    "client = Redis(\n",
    "    host='39.104.208.122', \n",
    "    port=6379,\n",
    "    decode_responses=False,  # 关闭自动解码\n",
    "    ssl=False\n",
    ")\n",
    "\n",
    "if client.ping():\n",
    "    print(\"Redis连接成功\")\n",
    "else:\n",
    "    print(\"Redis连接失败\")"
   ]
  },
  {
   "cell_type": "code",
   "execution_count": 15,
   "id": "96a98c6f-79e7-4d99-b090-d66c3fb0b5bc",
   "metadata": {},
   "outputs": [],
   "source": [
    "class BinaryCache:\n",
    "\n",
    "    def __init__(self, client):\n",
    "        self.client = client\n",
    "\n",
    "    def set(self, name, path, ttl=None):\n",
    "        \"\"\"\n",
    "        根据给定的名字和文件路径，缓存指定的二进制文件数据。\n",
    "        可选ttl参数用于设置缓存的生存时间。\n",
    "        \"\"\"\n",
    "        # 以二进制方式打开文件，并读取文件中的数据\n",
    "        file = open(path, \"rb\")\n",
    "        data = file.read()\n",
    "        file.close()\n",
    "        # 缓存二进制数据\n",
    "        self.client.set(name, data, ttl)\n",
    "\n",
    "    def get(self, name):\n",
    "        \"\"\"\n",
    "        获取指定名字的缓存内容，若缓存不存在则返回None。\n",
    "        \"\"\"\n",
    "        return self.client.get(name)"
   ]
  },
  {
   "cell_type": "code",
   "execution_count": 16,
   "id": "7fbf973a-0566-477b-a0ce-796421a8af29",
   "metadata": {},
   "outputs": [
    {
     "name": "stdout",
     "output_type": "stream",
     "text": [
      "b'\\x89PNG\\r\\n\\x1a\\n\\x00\\x00'\n"
     ]
    }
   ],
   "source": [
    "cache = BinaryCache(client)\n",
    "cache.set(\"logo.png\", \"./logo.png\")\n",
    "print(cache.get(\"logo.png\")[:10])"
   ]
  },
  {
   "cell_type": "code",
   "execution_count": 13,
   "id": "7ea2d1dc-cb15-4638-92b1-e2bda96dbc53",
   "metadata": {},
   "outputs": [],
   "source": [
    "# 如果想看到照片，可以使用第三方库进行转换；或者用下面的方式将二进制保存为图片\n",
    "with open(\"new_logo.png\", \"wb\") as f:\n",
    "    f.write(cache.get(\"logo.png\"))"
   ]
  },
  {
   "cell_type": "markdown",
   "id": "618635f0-591c-48a9-8e0b-f3f876debb87",
   "metadata": {},
   "source": [
    "多说一嘴，我记得以前存图片还要用什么 Base64 进行转换，Base64 是干嘛的？\n",
    "\n",
    "Base64 编码是从二进制值转换到某些特定字符的编码方式，这些特定字符一共 64 个，所以称作 Base64。为什么不直接传输二进制呢？而且即使 Base64 编码过的字符串最终也是二进制在网络上传输的。原因其实是二进制不兼容的问题。某些二进制值，在一些硬件上，比如在不同的路由器，老电脑上，表示的意义不一样，做的处理也不一样。但是 Base64 的 64 个字符（A-Z、a-z、0-9、+、/）是 ASCII 字符，在 ASCII 和 UTF-8 中编码一致，因此在大多数机器和软件上的行为相同，兼容性强。\n",
    "\n",
    "它的过程：\n",
    "+ 图片的二进制数据 → Base64 编码 → ASCII 字符串。\n",
    "+ ASCII 字符串 → Base64 解码 → 二进制数据 → 保存或显示为图片。"
   ]
  },
  {
   "cell_type": "markdown",
   "id": "514b0f9d-6582-4f4c-b603-6d2a4e9c9942",
   "metadata": {},
   "source": [
    "另外说一下，如果在 MySQL 中存储二进制，需要用到 BINARY，用于存储固定长度或可变长度的二进制数据；BLOB，适合存储大块二进制数据。存储的过程和 Redis 也是一样的，read 拿到二进制直接存。"
   ]
  }
 ],
 "metadata": {
  "kernelspec": {
   "display_name": "Python 3 (ipykernel)",
   "language": "python",
   "name": "python3"
  },
  "language_info": {
   "codemirror_mode": {
    "name": "ipython",
    "version": 3
   },
   "file_extension": ".py",
   "mimetype": "text/x-python",
   "name": "python",
   "nbconvert_exporter": "python",
   "pygments_lexer": "ipython3",
   "version": "3.9.21"
  }
 },
 "nbformat": 4,
 "nbformat_minor": 5
}
